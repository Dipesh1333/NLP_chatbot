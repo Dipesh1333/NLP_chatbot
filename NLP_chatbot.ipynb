{
 "cells": [
  {
   "cell_type": "code",
   "execution_count": 75,
   "metadata": {},
   "outputs": [
    {
     "data": {
      "text/plain": [
       "<tensorflow.python.framework.ops.Graph at 0x1c3a2436cd0>"
      ]
     },
     "execution_count": 75,
     "metadata": {},
     "output_type": "execute_result"
    }
   ],
   "source": [
    "import numpy as np\n",
    "import pandas as pd\n",
    "from nltk.corpus import stopwords\n",
    "from nltk.tokenize import word_tokenize\n",
    "from nltk.stem.lancaster import LancasterStemmer\n",
    "import nltk\n",
    "import re\n",
    "from sklearn.preprocessing import OneHotEncoder\n",
    "import matplotlib.pyplot as plt\n",
    "from keras.preprocessing.text import Tokenizer\n",
    "from keras.preprocessing.sequence import pad_sequences\n",
    "from tensorflow.keras.utils import to_categorical\n",
    "from tensorflow.keras.models import Sequential, load_model\n",
    "from tensorflow.keras.layers import Dense, LSTM, Bidirectional, Embedding, Dropout\n",
    "from keras.callbacks import ModelCheckpoint\n",
    "import tensorflow as tf\n",
    "tf.compat.v1.get_default_graph()"
   ]
  },
  {
   "cell_type": "code",
   "execution_count": 76,
   "metadata": {},
   "outputs": [],
   "source": [
    "def load_dataset(filename):\n",
    "    df = pd.read_csv(filename, encoding = \"latin1\", names = [\"Sentence\", \"Intent\"])\n",
    "    print(df.head())\n",
    "    intent = df[\"Intent\"]\n",
    "    unique_intent = list(set(intent))\n",
    "    sentences = list(df[\"Sentence\"])\n",
    "\n",
    "    return (intent, unique_intent, sentences)"
   ]
  },
  {
   "cell_type": "code",
   "execution_count": 77,
   "metadata": {},
   "outputs": [
    {
     "name": "stdout",
     "output_type": "stream",
     "text": [
      "                               Sentence                      Intent\n",
      "0                           ï»¿Sentence                      Intent\n",
      "1    I want to know about car insurance  Detail_about_car_insurance\n",
      "2  Can you tell me about car insurance?  Detail_about_car_insurance\n",
      "3          How can I buy car insurance?  Detail_about_car_insurance\n",
      "4                What is car insurance?  Detail_about_car_insurance\n"
     ]
    }
   ],
   "source": [
    "intent, unique_intent, sentences = load_dataset(\"Cars.csv\")"
   ]
  },
  {
   "cell_type": "code",
   "execution_count": 78,
   "metadata": {},
   "outputs": [
    {
     "name": "stdout",
     "output_type": "stream",
     "text": [
      "['ï»¿Sentence', 'I want to know about car insurance', 'Can you tell me about car insurance?', 'How can I buy car insurance?', 'What is car insurance?']\n"
     ]
    }
   ],
   "source": [
    "print(sentences[:5])"
   ]
  },
  {
   "cell_type": "code",
   "execution_count": 79,
   "metadata": {},
   "outputs": [
    {
     "name": "stderr",
     "output_type": "stream",
     "text": [
      "[nltk_data] Downloading package stopwords to\n",
      "[nltk_data]     H:\\Anaconda\\envs\\tensorflow\\lib\\nltk_data...\n",
      "[nltk_data]   Package stopwords is already up-to-date!\n",
      "[nltk_data] Downloading package punkt to\n",
      "[nltk_data]     H:\\Anaconda\\envs\\tensorflow\\lib\\nltk_data...\n",
      "[nltk_data]   Package punkt is already up-to-date!\n"
     ]
    },
    {
     "data": {
      "text/plain": [
       "True"
      ]
     },
     "execution_count": 79,
     "metadata": {},
     "output_type": "execute_result"
    }
   ],
   "source": [
    "nltk.download(\"stopwords\")\n",
    "nltk.download(\"punkt\")"
   ]
  },
  {
   "cell_type": "code",
   "execution_count": 80,
   "metadata": {},
   "outputs": [],
   "source": [
    "#define stemmer\n",
    "stemmer = LancasterStemmer()"
   ]
  },
  {
   "cell_type": "code",
   "execution_count": 81,
   "metadata": {},
   "outputs": [],
   "source": [
    "def cleaning(sentences):\n",
    "    words = []\n",
    "    for s in sentences:\n",
    "        clean = re.sub(r'[^ a-z A-Z 0-9]', \" \", s)\n",
    "        w = word_tokenize(clean)\n",
    "        #stemming\n",
    "        words.append([i.lower() for i in w])\n",
    "\n",
    "    return words"
   ]
  },
  {
   "cell_type": "code",
   "execution_count": 82,
   "metadata": {},
   "outputs": [
    {
     "name": "stdout",
     "output_type": "stream",
     "text": [
      "33\n",
      "[['sentence'], ['i', 'want', 'to', 'know', 'about', 'car', 'insurance']]\n"
     ]
    }
   ],
   "source": [
    "cleaned_words = cleaning(sentences)\n",
    "print(len(cleaned_words))\n",
    "print(cleaned_words[:2])"
   ]
  },
  {
   "cell_type": "code",
   "execution_count": 83,
   "metadata": {},
   "outputs": [],
   "source": [
    "def create_tokenizer(words, filters = '!\"#$%&()*+,-./:;<=>?@[\\]^_`{|}~'):\n",
    "    token = Tokenizer(filters = filters)\n",
    "    token.fit_on_texts(words)\n",
    "    return token"
   ]
  },
  {
   "cell_type": "code",
   "execution_count": 84,
   "metadata": {},
   "outputs": [],
   "source": [
    "def max_length(words):\n",
    "    return(len(max(words, key = len)))"
   ]
  },
  {
   "cell_type": "code",
   "execution_count": 85,
   "metadata": {},
   "outputs": [
    {
     "name": "stdout",
     "output_type": "stream",
     "text": [
      "Vocab Size = 93 and Maximum length = 14\n"
     ]
    }
   ],
   "source": [
    "word_tokenizer = create_tokenizer(cleaned_words)\n",
    "vocab_size = len(word_tokenizer.word_index) + 1\n",
    "max_length = max_length(cleaned_words)\n",
    "\n",
    "print(\"Vocab Size = %d and Maximum length = %d\" % (vocab_size, max_length))"
   ]
  },
  {
   "cell_type": "code",
   "execution_count": 86,
   "metadata": {},
   "outputs": [],
   "source": [
    "def encoding_doc(token, words):\n",
    "    return(token.texts_to_sequences(words))"
   ]
  },
  {
   "cell_type": "code",
   "execution_count": 87,
   "metadata": {},
   "outputs": [],
   "source": [
    "encoded_doc = encoding_doc(word_tokenizer, cleaned_words)"
   ]
  },
  {
   "cell_type": "code",
   "execution_count": 88,
   "metadata": {},
   "outputs": [],
   "source": [
    "def padding_doc(encoded_doc, max_length):\n",
    "    return(pad_sequences(encoded_doc, maxlen = max_length, padding = \"post\"))"
   ]
  },
  {
   "cell_type": "code",
   "execution_count": 89,
   "metadata": {},
   "outputs": [],
   "source": [
    "padded_doc = padding_doc(encoded_doc, max_length)"
   ]
  },
  {
   "cell_type": "code",
   "execution_count": 90,
   "metadata": {},
   "outputs": [
    {
     "data": {
      "text/plain": [
       "array([[32,  0,  0,  0,  0,  0,  0,  0,  0,  0,  0,  0,  0,  0],\n",
       "       [ 2, 14,  8, 21, 22,  1,  3,  0,  0,  0,  0,  0,  0,  0],\n",
       "       [ 5, 18, 33, 15, 22,  1,  3,  0,  0,  0,  0,  0,  0,  0],\n",
       "       [ 9,  5,  2, 19,  1,  3,  0,  0,  0,  0,  0,  0,  0,  0],\n",
       "       [ 7, 10,  1,  3,  0,  0,  0,  0,  0,  0,  0,  0,  0,  0]])"
      ]
     },
     "execution_count": 90,
     "metadata": {},
     "output_type": "execute_result"
    }
   ],
   "source": [
    "padded_doc[:5]"
   ]
  },
  {
   "cell_type": "code",
   "execution_count": 91,
   "metadata": {},
   "outputs": [
    {
     "name": "stdout",
     "output_type": "stream",
     "text": [
      "Shape of padded docs =  (33, 14)\n"
     ]
    }
   ],
   "source": [
    "print(\"Shape of padded docs = \",padded_doc.shape)"
   ]
  },
  {
   "cell_type": "code",
   "execution_count": 92,
   "metadata": {},
   "outputs": [],
   "source": [
    "#tokenizer with filter changed\n",
    "output_tokenizer = create_tokenizer(unique_intent, filters = '!\"#$%&()*+,-/:;<=>?@[\\]^`{|}~')"
   ]
  },
  {
   "cell_type": "code",
   "execution_count": 93,
   "metadata": {},
   "outputs": [
    {
     "data": {
      "text/plain": [
       "{'detail_about_car_insurance': 1,\n",
       " 'sell_a_car': 2,\n",
       " 'purchasing_a_car': 3,\n",
       " 'intent': 4}"
      ]
     },
     "execution_count": 93,
     "metadata": {},
     "output_type": "execute_result"
    }
   ],
   "source": [
    "output_tokenizer.word_index"
   ]
  },
  {
   "cell_type": "code",
   "execution_count": 94,
   "metadata": {},
   "outputs": [],
   "source": [
    "encoded_output = encoding_doc(output_tokenizer, intent)"
   ]
  },
  {
   "cell_type": "code",
   "execution_count": 95,
   "metadata": {},
   "outputs": [],
   "source": [
    "encoded_output = np.array(encoded_output).reshape(len(encoded_output), 1)"
   ]
  },
  {
   "cell_type": "code",
   "execution_count": 96,
   "metadata": {},
   "outputs": [
    {
     "data": {
      "text/plain": [
       "(33, 1)"
      ]
     },
     "execution_count": 96,
     "metadata": {},
     "output_type": "execute_result"
    }
   ],
   "source": [
    "encoded_output.shape"
   ]
  },
  {
   "cell_type": "code",
   "execution_count": 97,
   "metadata": {},
   "outputs": [],
   "source": [
    "def one_hot(encode):\n",
    "    o = OneHotEncoder(sparse = False)\n",
    "    return(o.fit_transform(encode))"
   ]
  },
  {
   "cell_type": "code",
   "execution_count": 98,
   "metadata": {},
   "outputs": [
    {
     "data": {
      "text/plain": [
       "array([[4],\n",
       "       [1],\n",
       "       [1],\n",
       "       [1],\n",
       "       [1],\n",
       "       [1],\n",
       "       [1],\n",
       "       [1],\n",
       "       [1],\n",
       "       [1],\n",
       "       [1],\n",
       "       [1],\n",
       "       [1],\n",
       "       [1],\n",
       "       [1],\n",
       "       [1],\n",
       "       [3],\n",
       "       [3],\n",
       "       [3],\n",
       "       [3],\n",
       "       [3],\n",
       "       [3],\n",
       "       [3],\n",
       "       [3],\n",
       "       [3],\n",
       "       [3],\n",
       "       [2],\n",
       "       [2],\n",
       "       [2],\n",
       "       [2],\n",
       "       [2],\n",
       "       [2],\n",
       "       [2]])"
      ]
     },
     "execution_count": 98,
     "metadata": {},
     "output_type": "execute_result"
    }
   ],
   "source": [
    "encoded_output"
   ]
  },
  {
   "cell_type": "code",
   "execution_count": 99,
   "metadata": {},
   "outputs": [],
   "source": [
    "output_one_hot = one_hot(encoded_output)"
   ]
  },
  {
   "cell_type": "code",
   "execution_count": 100,
   "metadata": {},
   "outputs": [
    {
     "data": {
      "text/plain": [
       "(33, 4)"
      ]
     },
     "execution_count": 100,
     "metadata": {},
     "output_type": "execute_result"
    }
   ],
   "source": [
    "output_one_hot.shape"
   ]
  },
  {
   "cell_type": "code",
   "execution_count": 101,
   "metadata": {},
   "outputs": [],
   "source": [
    "from sklearn.model_selection import train_test_split"
   ]
  },
  {
   "cell_type": "code",
   "execution_count": 102,
   "metadata": {},
   "outputs": [],
   "source": [
    "train_X, val_X, train_Y, val_Y = train_test_split(padded_doc, output_one_hot, shuffle = True, test_size = 0.3)"
   ]
  },
  {
   "cell_type": "code",
   "execution_count": 103,
   "metadata": {},
   "outputs": [
    {
     "name": "stdout",
     "output_type": "stream",
     "text": [
      "Shape of train_X = (23, 14) and train_Y = (23, 4)\n",
      "Shape of val_X = (10, 14) and val_Y = (10, 4)\n"
     ]
    }
   ],
   "source": [
    "print(\"Shape of train_X = %s and train_Y = %s\" % (train_X.shape, train_Y.shape))\n",
    "print(\"Shape of val_X = %s and val_Y = %s\" % (val_X.shape, val_Y.shape))"
   ]
  },
  {
   "cell_type": "code",
   "execution_count": 104,
   "metadata": {},
   "outputs": [],
   "source": [
    "def create_model(vocab_size, max_length):\n",
    "    model = Sequential()\n",
    "    model.add(Embedding(vocab_size, 128, input_length = max_length, trainable = False))\n",
    "    model.add(Bidirectional(LSTM(128)))\n",
    "#   model.add(LSTM(128))\n",
    "    model.add(Dense(32, activation = \"relu\"))\n",
    "    model.add(Dropout(0.5))\n",
    "    model.add(Dense(4, activation = \"softmax\"))\n",
    "  \n",
    "    return model"
   ]
  },
  {
   "cell_type": "code",
   "execution_count": 105,
   "metadata": {},
   "outputs": [
    {
     "name": "stdout",
     "output_type": "stream",
     "text": [
      "Model: \"sequential_4\"\n",
      "_________________________________________________________________\n",
      "Layer (type)                 Output Shape              Param #   \n",
      "=================================================================\n",
      "embedding_4 (Embedding)      (None, 14, 128)           11904     \n",
      "_________________________________________________________________\n",
      "bidirectional_4 (Bidirection (None, 256)               263168    \n",
      "_________________________________________________________________\n",
      "dense_8 (Dense)              (None, 32)                8224      \n",
      "_________________________________________________________________\n",
      "dropout_4 (Dropout)          (None, 32)                0         \n",
      "_________________________________________________________________\n",
      "dense_9 (Dense)              (None, 4)                 132       \n",
      "=================================================================\n",
      "Total params: 283,428\n",
      "Trainable params: 271,524\n",
      "Non-trainable params: 11,904\n",
      "_________________________________________________________________\n"
     ]
    }
   ],
   "source": [
    "model = create_model(vocab_size, max_length)\n",
    "\n",
    "model.compile(loss = \"categorical_crossentropy\", optimizer = \"adam\", metrics = [\"accuracy\"])\n",
    "model.summary()"
   ]
  },
  {
   "cell_type": "code",
   "execution_count": 107,
   "metadata": {},
   "outputs": [
    {
     "name": "stdout",
     "output_type": "stream",
     "text": [
      "Epoch 1/100\n",
      "18/23 [======================>.......] - ETA: 0s - loss: 1.2904 - accuracy: 0.4444  \n",
      "Epoch 00001: val_loss improved from inf to 1.29477, saving model to model.h4\n",
      "INFO:tensorflow:Assets written to: model.h4\\assets\n",
      "23/23 [==============================] - 11s 475ms/step - loss: 1.2385 - accuracy: 0.4783 - val_loss: 1.2948 - val_accuracy: 0.1000\n",
      "Epoch 2/100\n",
      "16/23 [===================>..........] - ETA: 0s - loss: 1.2954 - accuracy: 0.5000\n",
      "Epoch 00002: val_loss did not improve from 1.29477\n",
      "23/23 [==============================] - 0s 8ms/step - loss: 1.3184 - accuracy: 0.5217 - val_loss: 1.3426 - val_accuracy: 0.1000\n",
      "Epoch 3/100\n",
      "18/23 [======================>.......] - ETA: 0s - loss: 1.3019 - accuracy: 0.3889  \n",
      "Epoch 00003: val_loss did not improve from 1.29477\n",
      "23/23 [==============================] - 0s 7ms/step - loss: 1.2945 - accuracy: 0.4348 - val_loss: 1.3225 - val_accuracy: 0.1000\n",
      "Epoch 4/100\n",
      "19/23 [=======================>......] - ETA: 0s - loss: 1.2801 - accuracy: 0.4211\n",
      "Epoch 00004: val_loss improved from 1.29477 to 1.23934, saving model to model.h4\n",
      "INFO:tensorflow:Assets written to: model.h4\\assets\n",
      "23/23 [==============================] - 8s 332ms/step - loss: 1.2917 - accuracy: 0.3913 - val_loss: 1.2393 - val_accuracy: 0.1000\n",
      "Epoch 5/100\n",
      "16/23 [===================>..........] - ETA: 0s - loss: 1.2148 - accuracy: 0.5625\n",
      "Epoch 00005: val_loss did not improve from 1.23934\n",
      "23/23 [==============================] - 0s 8ms/step - loss: 1.2660 - accuracy: 0.4783 - val_loss: 1.2632 - val_accuracy: 0.1000\n",
      "Epoch 6/100\n",
      "16/23 [===================>..........] - ETA: 0s - loss: 1.2739 - accuracy: 0.3750\n",
      "Epoch 00006: val_loss improved from 1.23934 to 1.23257, saving model to model.h4\n",
      "INFO:tensorflow:Assets written to: model.h4\\assets\n",
      "23/23 [==============================] - 8s 327ms/step - loss: 1.2344 - accuracy: 0.4783 - val_loss: 1.2326 - val_accuracy: 0.2000\n",
      "Epoch 7/100\n",
      "23/23 [==============================] - ETA: 0s - loss: 1.1697 - accuracy: 0.3913\n",
      "Epoch 00007: val_loss improved from 1.23257 to 1.05138, saving model to model.h4\n",
      "INFO:tensorflow:Assets written to: model.h4\\assets\n",
      "23/23 [==============================] - 8s 336ms/step - loss: 1.1697 - accuracy: 0.3913 - val_loss: 1.0514 - val_accuracy: 0.6000\n",
      "Epoch 8/100\n",
      "21/23 [==========================>...] - ETA: 0s - loss: 1.0661 - accuracy: 0.5238\n",
      "Epoch 00008: val_loss improved from 1.05138 to 0.77221, saving model to model.h4\n",
      "INFO:tensorflow:Assets written to: model.h4\\assets\n",
      "23/23 [==============================] - 7s 303ms/step - loss: 1.0773 - accuracy: 0.5217 - val_loss: 0.7722 - val_accuracy: 0.7000\n",
      "Epoch 9/100\n",
      "22/23 [===========================>..] - ETA: 0s - loss: 1.0902 - accuracy: 0.6818\n",
      "Epoch 00009: val_loss did not improve from 0.77221\n",
      "23/23 [==============================] - 0s 8ms/step - loss: 1.0796 - accuracy: 0.6957 - val_loss: 1.1476 - val_accuracy: 0.6000\n",
      "Epoch 10/100\n",
      "16/23 [===================>..........] - ETA: 0s - loss: 0.8447 - accuracy: 0.7500\n",
      "Epoch 00010: val_loss did not improve from 0.77221\n",
      "23/23 [==============================] - 0s 8ms/step - loss: 1.0169 - accuracy: 0.6087 - val_loss: 1.0598 - val_accuracy: 0.4000\n",
      "Epoch 11/100\n",
      "22/23 [===========================>..] - ETA: 0s - loss: 1.0345 - accuracy: 0.4545\n",
      "Epoch 00011: val_loss did not improve from 0.77221\n",
      "23/23 [==============================] - 0s 9ms/step - loss: 1.0126 - accuracy: 0.4783 - val_loss: 0.8404 - val_accuracy: 0.7000\n",
      "Epoch 12/100\n",
      "19/23 [=======================>......] - ETA: 0s - loss: 0.7944 - accuracy: 0.7368\n",
      "Epoch 00012: val_loss did not improve from 0.77221\n",
      "23/23 [==============================] - 0s 10ms/step - loss: 0.7771 - accuracy: 0.7391 - val_loss: 0.8677 - val_accuracy: 0.5000\n",
      "Epoch 13/100\n",
      "22/23 [===========================>..] - ETA: 0s - loss: 0.6860 - accuracy: 0.6818\n",
      "Epoch 00013: val_loss improved from 0.77221 to 0.64711, saving model to model.h4\n",
      "INFO:tensorflow:Assets written to: model.h4\\assets\n",
      "23/23 [==============================] - 8s 355ms/step - loss: 0.6562 - accuracy: 0.6957 - val_loss: 0.6471 - val_accuracy: 0.7000\n",
      "Epoch 14/100\n",
      "23/23 [==============================] - ETA: 0s - loss: 0.6425 - accuracy: 0.7826\n",
      "Epoch 00014: val_loss did not improve from 0.64711\n",
      "23/23 [==============================] - 0s 11ms/step - loss: 0.6425 - accuracy: 0.7826 - val_loss: 1.1638 - val_accuracy: 0.8000\n",
      "Epoch 15/100\n",
      "17/23 [=====================>........] - ETA: 0s - loss: 0.4734 - accuracy: 0.7647  \n",
      "Epoch 00015: val_loss did not improve from 0.64711\n",
      "23/23 [==============================] - 0s 7ms/step - loss: 0.5002 - accuracy: 0.7826 - val_loss: 1.3132 - val_accuracy: 0.7000\n",
      "Epoch 16/100\n",
      "16/23 [===================>..........] - ETA: 0s - loss: 0.3256 - accuracy: 0.8125\n",
      "Epoch 00016: val_loss did not improve from 0.64711\n",
      "23/23 [==============================] - 0s 8ms/step - loss: 0.7014 - accuracy: 0.7826 - val_loss: 1.1267 - val_accuracy: 0.5000\n",
      "Epoch 17/100\n",
      "16/23 [===================>..........] - ETA: 0s - loss: 0.7463 - accuracy: 0.6875\n",
      "Epoch 00017: val_loss did not improve from 0.64711\n",
      "23/23 [==============================] - 0s 8ms/step - loss: 0.9109 - accuracy: 0.6522 - val_loss: 0.9332 - val_accuracy: 0.6000\n",
      "Epoch 18/100\n",
      "16/23 [===================>..........] - ETA: 0s - loss: 0.8736 - accuracy: 0.5625  \n",
      "Epoch 00018: val_loss did not improve from 0.64711\n",
      "23/23 [==============================] - 0s 8ms/step - loss: 0.8389 - accuracy: 0.5652 - val_loss: 0.9224 - val_accuracy: 0.6000\n",
      "Epoch 19/100\n",
      "22/23 [===========================>..] - ETA: 0s - loss: 0.4662 - accuracy: 0.8636\n",
      "Epoch 00019: val_loss did not improve from 0.64711\n",
      "23/23 [==============================] - 0s 9ms/step - loss: 0.4767 - accuracy: 0.8261 - val_loss: 1.8583 - val_accuracy: 0.7000\n",
      "Epoch 20/100\n",
      "18/23 [======================>.......] - ETA: 0s - loss: 1.0643 - accuracy: 0.7222\n",
      "Epoch 00020: val_loss did not improve from 0.64711\n",
      "23/23 [==============================] - 0s 10ms/step - loss: 1.0233 - accuracy: 0.6957 - val_loss: 0.8930 - val_accuracy: 0.6000\n",
      "Epoch 21/100\n",
      "23/23 [==============================] - ETA: 0s - loss: 0.6886 - accuracy: 0.6957\n",
      "Epoch 00021: val_loss improved from 0.64711 to 0.62702, saving model to model.h4\n",
      "INFO:tensorflow:Assets written to: model.h4\\assets\n",
      "23/23 [==============================] - 7s 303ms/step - loss: 0.6886 - accuracy: 0.6957 - val_loss: 0.6270 - val_accuracy: 0.6000\n",
      "Epoch 22/100\n",
      "21/23 [==========================>...] - ETA: 0s - loss: 0.7785 - accuracy: 0.7619\n",
      "Epoch 00022: val_loss improved from 0.62702 to 0.51085, saving model to model.h4\n",
      "INFO:tensorflow:Assets written to: model.h4\\assets\n",
      "23/23 [==============================] - 8s 357ms/step - loss: 0.7187 - accuracy: 0.7826 - val_loss: 0.5108 - val_accuracy: 0.7000\n",
      "Epoch 23/100\n",
      "22/23 [===========================>..] - ETA: 0s - loss: 0.3884 - accuracy: 0.9091\n",
      "Epoch 00023: val_loss improved from 0.51085 to 0.43449, saving model to model.h4\n",
      "INFO:tensorflow:Assets written to: model.h4\\assets\n",
      "23/23 [==============================] - 7s 299ms/step - loss: 0.4279 - accuracy: 0.8696 - val_loss: 0.4345 - val_accuracy: 0.9000\n",
      "Epoch 24/100\n",
      "19/23 [=======================>......] - ETA: 0s - loss: 0.3370 - accuracy: 0.8421\n",
      "Epoch 00024: val_loss improved from 0.43449 to 0.38941, saving model to model.h4\n",
      "INFO:tensorflow:Assets written to: model.h4\\assets\n",
      "23/23 [==============================] - 8s 326ms/step - loss: 0.3048 - accuracy: 0.8696 - val_loss: 0.3894 - val_accuracy: 0.9000\n",
      "Epoch 25/100\n",
      "21/23 [==========================>...] - ETA: 0s - loss: 0.3013 - accuracy: 0.8571\n",
      "Epoch 00025: val_loss improved from 0.38941 to 0.31903, saving model to model.h4\n",
      "INFO:tensorflow:Assets written to: model.h4\\assets\n",
      "23/23 [==============================] - 8s 358ms/step - loss: 0.2882 - accuracy: 0.8696 - val_loss: 0.3190 - val_accuracy: 0.8000\n",
      "Epoch 26/100\n",
      "22/23 [===========================>..] - ETA: 0s - loss: 0.4203 - accuracy: 0.8182\n",
      "Epoch 00026: val_loss did not improve from 0.31903\n",
      "23/23 [==============================] - 0s 9ms/step - loss: 0.4527 - accuracy: 0.7826 - val_loss: 0.4941 - val_accuracy: 0.9000\n",
      "Epoch 27/100\n",
      "20/23 [=========================>....] - ETA: 0s - loss: 0.2874 - accuracy: 0.9500\n",
      "Epoch 00027: val_loss did not improve from 0.31903\n",
      "23/23 [==============================] - 0s 9ms/step - loss: 0.2733 - accuracy: 0.9565 - val_loss: 0.6380 - val_accuracy: 0.8000\n",
      "Epoch 28/100\n",
      "16/23 [===================>..........] - ETA: 0s - loss: 0.1368 - accuracy: 0.9375\n",
      "Epoch 00028: val_loss did not improve from 0.31903\n",
      "23/23 [==============================] - 0s 8ms/step - loss: 0.1508 - accuracy: 0.9130 - val_loss: 0.6064 - val_accuracy: 0.9000\n",
      "Epoch 29/100\n",
      "23/23 [==============================] - ETA: 0s - loss: 0.2001 - accuracy: 0.9565\n",
      "Epoch 00029: val_loss did not improve from 0.31903\n",
      "23/23 [==============================] - 0s 8ms/step - loss: 0.2001 - accuracy: 0.9565 - val_loss: 0.5897 - val_accuracy: 0.9000\n",
      "Epoch 30/100\n",
      "17/23 [=====================>........] - ETA: 0s - loss: 0.2871 - accuracy: 0.8824\n",
      "Epoch 00030: val_loss did not improve from 0.31903\n",
      "23/23 [==============================] - 0s 8ms/step - loss: 0.2217 - accuracy: 0.9130 - val_loss: 0.6629 - val_accuracy: 0.9000\n",
      "Epoch 31/100\n",
      "16/23 [===================>..........] - ETA: 0s - loss: 0.0931 - accuracy: 0.9375\n",
      "Epoch 00031: val_loss did not improve from 0.31903\n",
      "23/23 [==============================] - 0s 8ms/step - loss: 0.1637 - accuracy: 0.9130 - val_loss: 0.7011 - val_accuracy: 0.9000\n",
      "Epoch 32/100\n",
      "20/23 [=========================>....] - ETA: 0s - loss: 0.1393 - accuracy: 0.9500\n",
      "Epoch 00032: val_loss did not improve from 0.31903\n",
      "23/23 [==============================] - 0s 9ms/step - loss: 0.1326 - accuracy: 0.9565 - val_loss: 0.7871 - val_accuracy: 0.8000\n",
      "Epoch 33/100\n",
      "16/23 [===================>..........] - ETA: 0s - loss: 0.1196 - accuracy: 0.9375\n",
      "Epoch 00033: val_loss did not improve from 0.31903\n",
      "23/23 [==============================] - 0s 8ms/step - loss: 0.3318 - accuracy: 0.8261 - val_loss: 0.8552 - val_accuracy: 0.9000\n",
      "Epoch 34/100\n",
      "22/23 [===========================>..] - ETA: 0s - loss: 0.5937 - accuracy: 0.9091\n",
      "Epoch 00034: val_loss did not improve from 0.31903\n",
      "23/23 [==============================] - 0s 8ms/step - loss: 0.5683 - accuracy: 0.9130 - val_loss: 0.8123 - val_accuracy: 0.9000\n",
      "Epoch 35/100\n",
      "22/23 [===========================>..] - ETA: 0s - loss: 0.2413 - accuracy: 1.0000\n",
      "Epoch 00035: val_loss did not improve from 0.31903\n",
      "23/23 [==============================] - 0s 8ms/step - loss: 0.2344 - accuracy: 1.0000 - val_loss: 0.7799 - val_accuracy: 0.9000\n",
      "Epoch 36/100\n",
      "23/23 [==============================] - ETA: 0s - loss: 0.1613 - accuracy: 0.9565\n",
      "Epoch 00036: val_loss did not improve from 0.31903\n",
      "23/23 [==============================] - 0s 8ms/step - loss: 0.1613 - accuracy: 0.9565 - val_loss: 0.7089 - val_accuracy: 0.9000\n",
      "Epoch 37/100\n",
      "23/23 [==============================] - ETA: 0s - loss: 0.1615 - accuracy: 0.9565\n",
      "Epoch 00037: val_loss did not improve from 0.31903\n",
      "23/23 [==============================] - 0s 8ms/step - loss: 0.1615 - accuracy: 0.9565 - val_loss: 0.7998 - val_accuracy: 0.9000\n",
      "Epoch 38/100\n",
      "19/23 [=======================>......] - ETA: 0s - loss: 0.1139 - accuracy: 0.9474\n",
      "Epoch 00038: val_loss did not improve from 0.31903\n",
      "23/23 [==============================] - 0s 9ms/step - loss: 0.1581 - accuracy: 0.9130 - val_loss: 0.6786 - val_accuracy: 0.9000\n",
      "Epoch 39/100\n",
      "21/23 [==========================>...] - ETA: 0s - loss: 0.0742 - accuracy: 1.0000\n",
      "Epoch 00039: val_loss did not improve from 0.31903\n",
      "23/23 [==============================] - 0s 9ms/step - loss: 0.0677 - accuracy: 1.0000 - val_loss: 0.7597 - val_accuracy: 0.9000\n",
      "Epoch 40/100\n",
      "20/23 [=========================>....] - ETA: 0s - loss: 0.1282 - accuracy: 0.9000\n",
      "Epoch 00040: val_loss did not improve from 0.31903\n",
      "23/23 [==============================] - 0s 9ms/step - loss: 0.1286 - accuracy: 0.9130 - val_loss: 0.6519 - val_accuracy: 0.9000\n",
      "Epoch 41/100\n",
      "16/23 [===================>..........] - ETA: 0s - loss: 0.0635 - accuracy: 1.0000\n",
      "Epoch 00041: val_loss did not improve from 0.31903\n",
      "23/23 [==============================] - 0s 8ms/step - loss: 0.0567 - accuracy: 1.0000 - val_loss: 0.6711 - val_accuracy: 0.9000\n",
      "Epoch 42/100\n",
      "23/23 [==============================] - ETA: 0s - loss: 0.1117 - accuracy: 1.0000\n",
      "Epoch 00042: val_loss did not improve from 0.31903\n",
      "23/23 [==============================] - 0s 8ms/step - loss: 0.1117 - accuracy: 1.0000 - val_loss: 0.6585 - val_accuracy: 0.9000\n",
      "Epoch 43/100\n",
      "19/23 [=======================>......] - ETA: 0s - loss: 0.0738 - accuracy: 0.9474\n",
      "Epoch 00043: val_loss did not improve from 0.31903\n",
      "23/23 [==============================] - 0s 10ms/step - loss: 0.0615 - accuracy: 0.9565 - val_loss: 0.6610 - val_accuracy: 0.9000\n",
      "Epoch 44/100\n",
      "23/23 [==============================] - ETA: 0s - loss: 0.0838 - accuracy: 1.0000\n",
      "Epoch 00044: val_loss did not improve from 0.31903\n",
      "23/23 [==============================] - 0s 8ms/step - loss: 0.0838 - accuracy: 1.0000 - val_loss: 0.7454 - val_accuracy: 0.9000\n",
      "Epoch 45/100\n",
      "16/23 [===================>..........] - ETA: 0s - loss: 0.0156 - accuracy: 1.0000\n",
      "Epoch 00045: val_loss did not improve from 0.31903\n",
      "23/23 [==============================] - 0s 8ms/step - loss: 0.0491 - accuracy: 1.0000 - val_loss: 0.9011 - val_accuracy: 0.9000\n",
      "Epoch 46/100\n",
      "22/23 [===========================>..] - ETA: 0s - loss: 0.0486 - accuracy: 1.0000\n",
      "Epoch 00046: val_loss did not improve from 0.31903\n",
      "23/23 [==============================] - 0s 8ms/step - loss: 0.2537 - accuracy: 0.9565 - val_loss: 1.1109 - val_accuracy: 0.9000\n",
      "Epoch 47/100\n",
      "16/23 [===================>..........] - ETA: 0s - loss: 0.0556 - accuracy: 1.0000  \n",
      "Epoch 00047: val_loss did not improve from 0.31903\n",
      "23/23 [==============================] - 0s 8ms/step - loss: 0.1796 - accuracy: 0.9565 - val_loss: 0.9652 - val_accuracy: 0.9000\n",
      "Epoch 48/100\n",
      "23/23 [==============================] - ETA: 0s - loss: 0.1407 - accuracy: 0.9130\n",
      "Epoch 00048: val_loss did not improve from 0.31903\n",
      "23/23 [==============================] - 0s 9ms/step - loss: 0.1407 - accuracy: 0.9130 - val_loss: 1.1115 - val_accuracy: 0.9000\n",
      "Epoch 49/100\n",
      "22/23 [===========================>..] - ETA: 0s - loss: 0.0547 - accuracy: 1.0000\n",
      "Epoch 00049: val_loss did not improve from 0.31903\n",
      "23/23 [==============================] - 0s 9ms/step - loss: 0.0524 - accuracy: 1.0000 - val_loss: 1.0045 - val_accuracy: 0.9000\n",
      "Epoch 50/100\n",
      "23/23 [==============================] - ETA: 0s - loss: 0.1721 - accuracy: 0.9130\n",
      "Epoch 00050: val_loss did not improve from 0.31903\n",
      "23/23 [==============================] - 0s 8ms/step - loss: 0.1721 - accuracy: 0.9130 - val_loss: 1.0058 - val_accuracy: 0.9000\n",
      "Epoch 51/100\n",
      "23/23 [==============================] - ETA: 0s - loss: 0.0829 - accuracy: 0.9565\n",
      "Epoch 00051: val_loss did not improve from 0.31903\n",
      "23/23 [==============================] - 0s 8ms/step - loss: 0.0829 - accuracy: 0.9565 - val_loss: 1.0333 - val_accuracy: 0.9000\n",
      "Epoch 52/100\n",
      "22/23 [===========================>..] - ETA: 0s - loss: 0.0576 - accuracy: 0.9545\n",
      "Epoch 00052: val_loss did not improve from 0.31903\n",
      "23/23 [==============================] - 0s 8ms/step - loss: 0.0554 - accuracy: 0.9565 - val_loss: 1.3361 - val_accuracy: 0.9000\n",
      "Epoch 53/100\n",
      "23/23 [==============================] - ETA: 0s - loss: 0.0594 - accuracy: 1.0000\n",
      "Epoch 00053: val_loss did not improve from 0.31903\n",
      "23/23 [==============================] - 0s 8ms/step - loss: 0.0594 - accuracy: 1.0000 - val_loss: 1.0195 - val_accuracy: 0.9000\n",
      "Epoch 54/100\n",
      "17/23 [=====================>........] - ETA: 0s - loss: 0.1511 - accuracy: 0.8824\n",
      "Epoch 00054: val_loss did not improve from 0.31903\n",
      "23/23 [==============================] - 0s 10ms/step - loss: 0.1207 - accuracy: 0.9130 - val_loss: 1.3730 - val_accuracy: 0.9000\n",
      "Epoch 55/100\n",
      "16/23 [===================>..........] - ETA: 0s - loss: 0.0611 - accuracy: 1.0000\n",
      "Epoch 00055: val_loss did not improve from 0.31903\n",
      "23/23 [==============================] - 0s 8ms/step - loss: 0.0442 - accuracy: 1.0000 - val_loss: 1.5816 - val_accuracy: 0.9000\n",
      "Epoch 56/100\n",
      "22/23 [===========================>..] - ETA: 0s - loss: 0.1176 - accuracy: 0.9545\n",
      "Epoch 00056: val_loss did not improve from 0.31903\n",
      "23/23 [==============================] - 0s 8ms/step - loss: 0.1125 - accuracy: 0.9565 - val_loss: 1.3599 - val_accuracy: 0.9000\n",
      "Epoch 57/100\n",
      "23/23 [==============================] - ETA: 0s - loss: 0.2931 - accuracy: 0.9130\n",
      "Epoch 00057: val_loss did not improve from 0.31903\n",
      "23/23 [==============================] - 0s 8ms/step - loss: 0.2931 - accuracy: 0.9130 - val_loss: 1.0659 - val_accuracy: 0.9000\n",
      "Epoch 58/100\n",
      "16/23 [===================>..........] - ETA: 0s - loss: 0.0682 - accuracy: 1.0000  \n",
      "Epoch 00058: val_loss did not improve from 0.31903\n",
      "23/23 [==============================] - 0s 8ms/step - loss: 0.0641 - accuracy: 1.0000 - val_loss: 1.2647 - val_accuracy: 0.9000\n",
      "Epoch 59/100\n",
      "23/23 [==============================] - ETA: 0s - loss: 0.0922 - accuracy: 0.9565\n",
      "Epoch 00059: val_loss did not improve from 0.31903\n",
      "23/23 [==============================] - 0s 10ms/step - loss: 0.0922 - accuracy: 0.9565 - val_loss: 1.2262 - val_accuracy: 0.9000\n",
      "Epoch 60/100\n",
      "23/23 [==============================] - ETA: 0s - loss: 0.1084 - accuracy: 1.0000\n",
      "Epoch 00060: val_loss did not improve from 0.31903\n",
      "23/23 [==============================] - 0s 8ms/step - loss: 0.1084 - accuracy: 1.0000 - val_loss: 1.1577 - val_accuracy: 0.9000\n",
      "Epoch 61/100\n",
      "23/23 [==============================] - ETA: 0s - loss: 0.0637 - accuracy: 0.9565\n",
      "Epoch 00061: val_loss did not improve from 0.31903\n",
      "23/23 [==============================] - 0s 8ms/step - loss: 0.0637 - accuracy: 0.9565 - val_loss: 1.2351 - val_accuracy: 0.9000\n",
      "Epoch 62/100\n",
      "16/23 [===================>..........] - ETA: 0s - loss: 0.0323 - accuracy: 1.0000  \n",
      "Epoch 00062: val_loss did not improve from 0.31903\n",
      "23/23 [==============================] - 0s 8ms/step - loss: 0.0250 - accuracy: 1.0000 - val_loss: 1.0942 - val_accuracy: 0.9000\n",
      "Epoch 63/100\n",
      "16/23 [===================>..........] - ETA: 0s - loss: 0.0881 - accuracy: 0.9375  \n",
      "Epoch 00063: val_loss did not improve from 0.31903\n",
      "23/23 [==============================] - 0s 8ms/step - loss: 0.0723 - accuracy: 0.9565 - val_loss: 1.0448 - val_accuracy: 0.9000\n",
      "Epoch 64/100\n",
      "22/23 [===========================>..] - ETA: 0s - loss: 0.1209 - accuracy: 0.9545\n",
      "Epoch 00064: val_loss did not improve from 0.31903\n",
      "23/23 [==============================] - 0s 9ms/step - loss: 0.1156 - accuracy: 0.9565 - val_loss: 1.1513 - val_accuracy: 0.9000\n",
      "Epoch 65/100\n",
      "17/23 [=====================>........] - ETA: 0s - loss: 0.0909 - accuracy: 0.9412\n",
      "Epoch 00065: val_loss did not improve from 0.31903\n",
      "23/23 [==============================] - 0s 10ms/step - loss: 0.0832 - accuracy: 0.9565 - val_loss: 2.1493 - val_accuracy: 0.9000\n",
      "Epoch 66/100\n",
      "21/23 [==========================>...] - ETA: 0s - loss: 0.0950 - accuracy: 0.9524\n",
      "Epoch 00066: val_loss did not improve from 0.31903\n",
      "23/23 [==============================] - 0s 8ms/step - loss: 0.1149 - accuracy: 0.9565 - val_loss: 2.0681 - val_accuracy: 0.9000\n",
      "Epoch 67/100\n",
      "16/23 [===================>..........] - ETA: 0s - loss: 0.0648 - accuracy: 1.0000\n",
      "Epoch 00067: val_loss did not improve from 0.31903\n",
      "23/23 [==============================] - 0s 8ms/step - loss: 0.0609 - accuracy: 1.0000 - val_loss: 2.1911 - val_accuracy: 0.9000\n",
      "Epoch 68/100\n",
      "16/23 [===================>..........] - ETA: 0s - loss: 0.0375 - accuracy: 1.0000\n",
      "Epoch 00068: val_loss did not improve from 0.31903\n",
      "23/23 [==============================] - 0s 8ms/step - loss: 0.0272 - accuracy: 1.0000 - val_loss: 2.2121 - val_accuracy: 0.9000\n",
      "Epoch 69/100\n",
      "23/23 [==============================] - ETA: 0s - loss: 0.0231 - accuracy: 1.0000\n",
      "Epoch 00069: val_loss did not improve from 0.31903\n",
      "23/23 [==============================] - 0s 8ms/step - loss: 0.0231 - accuracy: 1.0000 - val_loss: 2.2714 - val_accuracy: 0.9000\n",
      "Epoch 70/100\n",
      "17/23 [=====================>........] - ETA: 0s - loss: 0.0059 - accuracy: 1.0000\n",
      "Epoch 00070: val_loss did not improve from 0.31903\n",
      "23/23 [==============================] - 0s 10ms/step - loss: 0.0135 - accuracy: 1.0000 - val_loss: 2.3077 - val_accuracy: 0.9000\n",
      "Epoch 71/100\n",
      "22/23 [===========================>..] - ETA: 0s - loss: 0.0106 - accuracy: 1.0000\n",
      "Epoch 00071: val_loss did not improve from 0.31903\n",
      "23/23 [==============================] - 0s 9ms/step - loss: 0.0185 - accuracy: 1.0000 - val_loss: 2.3781 - val_accuracy: 0.9000\n",
      "Epoch 72/100\n",
      "22/23 [===========================>..] - ETA: 0s - loss: 0.0726 - accuracy: 0.9545  \n",
      "Epoch 00072: val_loss did not improve from 0.31903\n",
      "23/23 [==============================] - 0s 8ms/step - loss: 0.0695 - accuracy: 0.9565 - val_loss: 2.4652 - val_accuracy: 0.9000\n",
      "Epoch 73/100\n",
      "21/23 [==========================>...] - ETA: 0s - loss: 0.0448 - accuracy: 1.0000\n",
      "Epoch 00073: val_loss did not improve from 0.31903\n",
      "23/23 [==============================] - 0s 9ms/step - loss: 0.0518 - accuracy: 1.0000 - val_loss: 2.4509 - val_accuracy: 0.9000\n",
      "Epoch 74/100\n",
      "16/23 [===================>..........] - ETA: 0s - loss: 0.0158 - accuracy: 1.0000  \n",
      "Epoch 00074: val_loss did not improve from 0.31903\n",
      "23/23 [==============================] - 0s 8ms/step - loss: 0.0151 - accuracy: 1.0000 - val_loss: 2.4224 - val_accuracy: 0.9000\n",
      "Epoch 75/100\n",
      "22/23 [===========================>..] - ETA: 0s - loss: 0.0080 - accuracy: 1.0000\n",
      "Epoch 00075: val_loss did not improve from 0.31903\n",
      "23/23 [==============================] - 0s 9ms/step - loss: 0.0119 - accuracy: 1.0000 - val_loss: 2.4340 - val_accuracy: 0.9000\n",
      "Epoch 76/100\n",
      "16/23 [===================>..........] - ETA: 0s - loss: 0.0956 - accuracy: 0.9375  \n",
      "Epoch 00076: val_loss did not improve from 0.31903\n",
      "23/23 [==============================] - 0s 8ms/step - loss: 0.0700 - accuracy: 0.9565 - val_loss: 2.5138 - val_accuracy: 0.9000\n",
      "Epoch 77/100\n",
      "23/23 [==============================] - ETA: 0s - loss: 0.0443 - accuracy: 0.9565\n",
      "Epoch 00077: val_loss did not improve from 0.31903\n",
      "23/23 [==============================] - 0s 9ms/step - loss: 0.0443 - accuracy: 0.9565 - val_loss: 2.4796 - val_accuracy: 0.9000\n",
      "Epoch 78/100\n",
      "17/23 [=====================>........] - ETA: 0s - loss: 0.0082 - accuracy: 1.0000  \n",
      "Epoch 00078: val_loss did not improve from 0.31903\n",
      "23/23 [==============================] - 0s 8ms/step - loss: 0.0062 - accuracy: 1.0000 - val_loss: 2.4495 - val_accuracy: 0.9000\n",
      "Epoch 79/100\n",
      "23/23 [==============================] - ETA: 0s - loss: 0.0362 - accuracy: 0.9565\n",
      "Epoch 00079: val_loss did not improve from 0.31903\n",
      "23/23 [==============================] - 0s 8ms/step - loss: 0.0362 - accuracy: 0.9565 - val_loss: 2.4415 - val_accuracy: 0.9000\n",
      "Epoch 80/100\n",
      "23/23 [==============================] - ETA: 0s - loss: 0.0140 - accuracy: 1.0000\n",
      "Epoch 00080: val_loss did not improve from 0.31903\n",
      "23/23 [==============================] - 0s 8ms/step - loss: 0.0140 - accuracy: 1.0000 - val_loss: 2.4796 - val_accuracy: 0.9000\n",
      "Epoch 81/100\n",
      "23/23 [==============================] - ETA: 0s - loss: 0.0349 - accuracy: 1.0000\n",
      "Epoch 00081: val_loss did not improve from 0.31903\n",
      "23/23 [==============================] - 0s 11ms/step - loss: 0.0349 - accuracy: 1.0000 - val_loss: 2.4937 - val_accuracy: 0.9000\n",
      "Epoch 82/100\n",
      "23/23 [==============================] - ETA: 0s - loss: 0.0215 - accuracy: 1.0000\n",
      "Epoch 00082: val_loss did not improve from 0.31903\n",
      "23/23 [==============================] - 0s 8ms/step - loss: 0.0215 - accuracy: 1.0000 - val_loss: 2.4764 - val_accuracy: 0.9000\n",
      "Epoch 83/100\n",
      "20/23 [=========================>....] - ETA: 0s - loss: 0.0464 - accuracy: 1.0000\n",
      "Epoch 00083: val_loss did not improve from 0.31903\n",
      "23/23 [==============================] - 0s 9ms/step - loss: 0.0403 - accuracy: 1.0000 - val_loss: 2.5509 - val_accuracy: 0.9000\n",
      "Epoch 84/100\n",
      "23/23 [==============================] - ETA: 0s - loss: 0.0354 - accuracy: 1.0000\n",
      "Epoch 00084: val_loss did not improve from 0.31903\n",
      "23/23 [==============================] - 0s 8ms/step - loss: 0.0354 - accuracy: 1.0000 - val_loss: 2.6464 - val_accuracy: 0.9000\n",
      "Epoch 85/100\n",
      "16/23 [===================>..........] - ETA: 0s - loss: 0.0314 - accuracy: 1.0000\n",
      "Epoch 00085: val_loss did not improve from 0.31903\n",
      "23/23 [==============================] - 0s 8ms/step - loss: 0.0224 - accuracy: 1.0000 - val_loss: 2.3531 - val_accuracy: 0.9000\n",
      "Epoch 86/100\n",
      "17/23 [=====================>........] - ETA: 0s - loss: 0.0182 - accuracy: 1.0000\n",
      "Epoch 00086: val_loss did not improve from 0.31903\n",
      "23/23 [==============================] - 0s 10ms/step - loss: 0.0136 - accuracy: 1.0000 - val_loss: 2.6777 - val_accuracy: 0.9000\n",
      "Epoch 87/100\n",
      "23/23 [==============================] - ETA: 0s - loss: 0.0070 - accuracy: 1.0000\n",
      "Epoch 00087: val_loss did not improve from 0.31903\n",
      "23/23 [==============================] - 0s 8ms/step - loss: 0.0070 - accuracy: 1.0000 - val_loss: 2.7295 - val_accuracy: 0.9000\n",
      "Epoch 88/100\n",
      "22/23 [===========================>..] - ETA: 0s - loss: 0.0436 - accuracy: 0.9545\n",
      "Epoch 00088: val_loss did not improve from 0.31903\n",
      "23/23 [==============================] - 0s 8ms/step - loss: 0.0417 - accuracy: 0.9565 - val_loss: 2.7629 - val_accuracy: 0.9000\n",
      "Epoch 89/100\n",
      "16/23 [===================>..........] - ETA: 0s - loss: 0.0054 - accuracy: 1.0000  \n",
      "Epoch 00089: val_loss did not improve from 0.31903\n",
      "23/23 [==============================] - 0s 8ms/step - loss: 0.0183 - accuracy: 1.0000 - val_loss: 2.9004 - val_accuracy: 0.9000\n",
      "Epoch 90/100\n",
      "16/23 [===================>..........] - ETA: 0s - loss: 0.0336 - accuracy: 1.0000  \n",
      "Epoch 00090: val_loss did not improve from 0.31903\n",
      "23/23 [==============================] - 0s 8ms/step - loss: 0.0319 - accuracy: 1.0000 - val_loss: 2.9807 - val_accuracy: 0.9000\n",
      "Epoch 91/100\n",
      "22/23 [===========================>..] - ETA: 0s - loss: 0.0231 - accuracy: 1.0000\n",
      "Epoch 00091: val_loss did not improve from 0.31903\n",
      "23/23 [==============================] - 0s 11ms/step - loss: 0.0221 - accuracy: 1.0000 - val_loss: 2.6479 - val_accuracy: 0.9000\n",
      "Epoch 92/100\n",
      "23/23 [==============================] - ETA: 0s - loss: 0.0321 - accuracy: 1.0000\n",
      "Epoch 00092: val_loss did not improve from 0.31903\n",
      "23/23 [==============================] - 0s 8ms/step - loss: 0.0321 - accuracy: 1.0000 - val_loss: 2.6794 - val_accuracy: 0.9000\n",
      "Epoch 93/100\n",
      "22/23 [===========================>..] - ETA: 0s - loss: 0.1891 - accuracy: 0.9091\n",
      "Epoch 00093: val_loss did not improve from 0.31903\n",
      "23/23 [==============================] - 0s 8ms/step - loss: 0.1808 - accuracy: 0.9130 - val_loss: 2.2975 - val_accuracy: 0.9000\n",
      "Epoch 94/100\n",
      "16/23 [===================>..........] - ETA: 0s - loss: 0.0059 - accuracy: 1.0000  \n",
      "Epoch 00094: val_loss did not improve from 0.31903\n",
      "23/23 [==============================] - 0s 8ms/step - loss: 0.0045 - accuracy: 1.0000 - val_loss: 2.3141 - val_accuracy: 0.9000\n",
      "Epoch 95/100\n",
      "22/23 [===========================>..] - ETA: 0s - loss: 0.0232 - accuracy: 1.0000\n",
      "Epoch 00095: val_loss did not improve from 0.31903\n",
      "23/23 [==============================] - 0s 8ms/step - loss: 0.0246 - accuracy: 1.0000 - val_loss: 2.2933 - val_accuracy: 0.9000\n",
      "Epoch 96/100\n",
      "17/23 [=====================>........] - ETA: 0s - loss: 0.0082 - accuracy: 1.0000  \n",
      "Epoch 00096: val_loss did not improve from 0.31903\n",
      "23/23 [==============================] - 0s 8ms/step - loss: 0.0470 - accuracy: 0.9565 - val_loss: 2.2859 - val_accuracy: 0.9000\n",
      "Epoch 97/100\n",
      "17/23 [=====================>........] - ETA: 0s - loss: 0.0145 - accuracy: 1.0000\n",
      "Epoch 00097: val_loss did not improve from 0.31903\n",
      "23/23 [==============================] - 0s 10ms/step - loss: 0.0114 - accuracy: 1.0000 - val_loss: 2.2928 - val_accuracy: 0.9000\n",
      "Epoch 98/100\n",
      "21/23 [==========================>...] - ETA: 0s - loss: 0.0098 - accuracy: 1.0000\n",
      "Epoch 00098: val_loss did not improve from 0.31903\n",
      "23/23 [==============================] - 0s 9ms/step - loss: 0.0105 - accuracy: 1.0000 - val_loss: 2.2872 - val_accuracy: 0.9000\n",
      "Epoch 99/100\n",
      "16/23 [===================>..........] - ETA: 0s - loss: 0.0348 - accuracy: 1.0000  \n",
      "Epoch 00099: val_loss did not improve from 0.31903\n",
      "23/23 [==============================] - 0s 8ms/step - loss: 0.0317 - accuracy: 1.0000 - val_loss: 2.3348 - val_accuracy: 0.9000\n",
      "Epoch 100/100\n",
      "22/23 [===========================>..] - ETA: 0s - loss: 0.0500 - accuracy: 1.0000\n",
      "Epoch 00100: val_loss did not improve from 0.31903\n",
      "23/23 [==============================] - 0s 8ms/step - loss: 0.0478 - accuracy: 1.0000 - val_loss: 2.3815 - val_accuracy: 0.8000\n"
     ]
    }
   ],
   "source": [
    "filename = 'model.h4'\n",
    "checkpoint = ModelCheckpoint(filename, monitor='val_loss', verbose=1, save_best_only=True, mode='min')\n",
    "\n",
    "hist = model.fit(train_X, train_Y, epochs = 100, batch_size = 1, validation_data = (val_X, val_Y), callbacks = [checkpoint])"
   ]
  },
  {
   "cell_type": "code",
   "execution_count": 109,
   "metadata": {},
   "outputs": [],
   "source": [
    "model = load_model(\"model.h4\")"
   ]
  },
  {
   "cell_type": "code",
   "execution_count": 110,
   "metadata": {},
   "outputs": [],
   "source": [
    "def predictions(text):\n",
    "    clean = re.sub(r'[^ a-z A-Z 0-9]', \" \", text)\n",
    "    test_word = word_tokenize(clean)\n",
    "    test_word = [w.lower() for w in test_word]\n",
    "    test_ls = word_tokenizer.texts_to_sequences(test_word)\n",
    "    print(test_word)\n",
    "  #Check for unknown words\n",
    "    if [] in test_ls:\n",
    "        test_ls = list(filter(None, test_ls))\n",
    "    \n",
    "        test_ls = np.array(test_ls).reshape(1, len(test_ls))\n",
    " \n",
    "    x = padding_doc(test_ls, max_length)\n",
    "  \n",
    "    pred = model.predict_proba(x)\n",
    "  \n",
    "  \n",
    "    return pred"
   ]
  },
  {
   "cell_type": "code",
   "execution_count": 111,
   "metadata": {},
   "outputs": [],
   "source": [
    "def get_final_output(pred, classes):\n",
    "    predictions = pred[0]\n",
    " \n",
    "    classes = np.array(classes)\n",
    "    ids = np.argsort(-predictions)\n",
    "    classes = classes[ids]\n",
    "    predictions = -np.sort(-predictions)\n",
    " \n",
    "    for i in range(pred.shape[1]):\n",
    "        print(\"%s has confidence = %s\" % (classes[i], (predictions[i])))"
   ]
  },
  {
   "cell_type": "code",
   "execution_count": 112,
   "metadata": {},
   "outputs": [
    {
     "name": "stdout",
     "output_type": "stream",
     "text": [
      "['i', 'want', 'to', 'purchase', 'a', 'car']\n",
      "WARNING:tensorflow:From <ipython-input-110-9d5d8e025396>:15: Sequential.predict_proba (from tensorflow.python.keras.engine.sequential) is deprecated and will be removed after 2021-01-01.\n",
      "Instructions for updating:\n",
      "Please use `model.predict()` instead.\n",
      "Purchasing_a_car has confidence = 0.967582\n",
      "Sell_a_car has confidence = 0.029549874\n",
      "Detail_about_car_insurance has confidence = 0.00280835\n",
      "Intent has confidence = 5.969917e-05\n"
     ]
    }
   ],
   "source": [
    "text = \"I want to purchase a car\"\n",
    "pred = predictions(text)\n",
    "get_final_output(pred, unique_intent)"
   ]
  },
  {
   "cell_type": "code",
   "execution_count": null,
   "metadata": {},
   "outputs": [],
   "source": []
  }
 ],
 "metadata": {
  "kernelspec": {
   "display_name": "Python 3",
   "language": "python",
   "name": "python3"
  },
  "language_info": {
   "codemirror_mode": {
    "name": "ipython",
    "version": 3
   },
   "file_extension": ".py",
   "mimetype": "text/x-python",
   "name": "python",
   "nbconvert_exporter": "python",
   "pygments_lexer": "ipython3",
   "version": "3.8.5"
  }
 },
 "nbformat": 4,
 "nbformat_minor": 4
}
